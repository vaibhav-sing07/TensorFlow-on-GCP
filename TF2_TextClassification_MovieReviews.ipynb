{
  "cells": [
    {
      "cell_type": "markdown",
      "metadata": {
        "id": "ItXfxkxvosLH"
      },
      "source": [
        "# Text classification with movie reviews"
      ]
    },
    {
      "cell_type": "markdown",
      "metadata": {
        "id": "Eg62Pmz3o83v"
      },
      "source": [
        "This notebook classifies movie reviews as *positive* or *negative* using the text of the review. This is an example of *binary*—or two-class—classification, an important and widely applicable kind of machine learning problem.\n",
        "\n",
        "We'll use the [IMDB dataset](https://www.tensorflow.org/api_docs/python/tf/keras/datasets/imdb) that contains the text of 50,000 movie reviews from the [Internet Movie Database](https://www.imdb.com/). These are split into 25,000 reviews for training and 25,000 reviews for testing. The training and testing sets are *balanced*, meaning they contain an equal number of positive and negative reviews.\n",
        "\n",
        "This notebook uses [tf.keras](https://www.tensorflow.org/r1/guide/keras), a high-level API to build and train models in TensorFlow."
      ]
    },
    {
      "cell_type": "code",
      "execution_count": 1,
      "metadata": {
        "id": "2ew7HTbPpCJH",
        "outputId": "55153f0b-3c20-480e-cecc-aa1c68338c60",
        "colab": {
          "base_uri": "https://localhost:8080/"
        }
      },
      "outputs": [
        {
          "output_type": "stream",
          "name": "stdout",
          "text": [
            "2.15.0\n"
          ]
        }
      ],
      "source": [
        "import tensorflow.compat.v1 as tf\n",
        "\n",
        "from tensorflow import keras\n",
        "\n",
        "import numpy as np\n",
        "\n",
        "print(tf.__version__)"
      ]
    },
    {
      "cell_type": "markdown",
      "metadata": {
        "id": "iAsKG535pHep"
      },
      "source": [
        "## Download the IMDB dataset\n",
        "\n",
        "The IMDB dataset comes packaged with TensorFlow. It has already been preprocessed such that the reviews (sequences of words) have been converted to sequences of integers, where each integer represents a specific word in a dictionary.\n",
        "\n",
        "The following code downloads the IMDB dataset to your machine (or uses a cached copy if you've already downloaded it):"
      ]
    },
    {
      "cell_type": "code",
      "execution_count": 2,
      "metadata": {
        "id": "zXXx5Oc3pOmN",
        "outputId": "020c9d70-8b2b-4c7b-a859-2e7576d1a034",
        "colab": {
          "base_uri": "https://localhost:8080/"
        }
      },
      "outputs": [
        {
          "output_type": "stream",
          "name": "stdout",
          "text": [
            "Downloading data from https://storage.googleapis.com/tensorflow/tf-keras-datasets/imdb.npz\n",
            "17464789/17464789 [==============================] - 0s 0us/step\n"
          ]
        }
      ],
      "source": [
        "imdb = keras.datasets.imdb\n",
        "\n",
        "(train_data, train_labels), (test_data, test_labels) = imdb.load_data(num_words=10000)"
      ]
    },
    {
      "cell_type": "markdown",
      "metadata": {
        "id": "odr-KlzO-lkL"
      },
      "source": [
        "The argument `num_words=10000` keeps the top 10,000 most frequently occurring words in the training data. The rare words are discarded to keep the size of the data manageable."
      ]
    },
    {
      "cell_type": "markdown",
      "metadata": {
        "id": "l50X3GfjpU4r"
      },
      "source": [
        "## Explore the data\n",
        "\n",
        "Let's take a moment to understand the format of the data. The dataset comes preprocessed: each example is an array of integers representing the words of the movie review. Each label is an integer value of either 0 or 1, where 0 is a negative review, and 1 is a positive review."
      ]
    },
    {
      "cell_type": "code",
      "execution_count": 3,
      "metadata": {
        "id": "y8qCnve_-lkO",
        "outputId": "b24997d6-09be-4e5a-f913-cda416f3d306",
        "colab": {
          "base_uri": "https://localhost:8080/"
        }
      },
      "outputs": [
        {
          "output_type": "stream",
          "name": "stdout",
          "text": [
            "Training entries: 25000, labels: 25000\n"
          ]
        }
      ],
      "source": [
        "print(\"Training entries: {}, labels: {}\".format(len(train_data), len(train_labels)))"
      ]
    },
    {
      "cell_type": "markdown",
      "metadata": {
        "id": "RnKvHWW4-lkW"
      },
      "source": [
        "The text of reviews have been converted to integers, where each integer represents a specific word in a dictionary. Here's what the first review looks like:"
      ]
    },
    {
      "cell_type": "code",
      "execution_count": 6,
      "metadata": {
        "id": "QtTS4kpEpjbi",
        "outputId": "84ce1dff-0ca8-4a82-8c66-b889ca4d355c",
        "colab": {
          "base_uri": "https://localhost:8080/"
        }
      },
      "outputs": [
        {
          "output_type": "stream",
          "name": "stdout",
          "text": [
            "[1, 14, 22, 16, 43, 530, 973, 1622, 1385, 65, 458, 4468, 66, 3941, 4, 173, 36, 256, 5, 25, 100, 43, 838, 112, 50, 670, 2, 9, 35, 480, 284, 5, 150, 4, 172, 112, 167, 2, 336, 385, 39, 4, 172, 4536, 1111, 17, 546, 38, 13, 447, 4, 192, 50, 16, 6, 147, 2025, 19, 14, 22, 4, 1920, 4613, 469, 4, 22, 71, 87, 12, 16, 43, 530, 38, 76, 15, 13, 1247, 4, 22, 17, 515, 17, 12, 16, 626, 18, 2, 5, 62, 386, 12, 8, 316, 8, 106, 5, 4, 2223, 5244, 16, 480, 66, 3785, 33, 4, 130, 12, 16, 38, 619, 5, 25, 124, 51, 36, 135, 48, 25, 1415, 33, 6, 22, 12, 215, 28, 77, 52, 5, 14, 407, 16, 82, 2, 8, 4, 107, 117, 5952, 15, 256, 4, 2, 7, 3766, 5, 723, 36, 71, 43, 530, 476, 26, 400, 317, 46, 7, 4, 2, 1029, 13, 104, 88, 4, 381, 15, 297, 98, 32, 2071, 56, 26, 141, 6, 194, 7486, 18, 4, 226, 22, 21, 134, 476, 26, 480, 5, 144, 30, 5535, 18, 51, 36, 28, 224, 92, 25, 104, 4, 226, 65, 16, 38, 1334, 88, 12, 16, 283, 5, 16, 4472, 113, 103, 32, 15, 16, 5345, 19, 178, 32]\n"
          ]
        }
      ],
      "source": [
        "print(train_data[0])"
      ]
    },
    {
      "cell_type": "markdown",
      "metadata": {
        "id": "hIE4l_72x7DP"
      },
      "source": [
        "Movie reviews may be different lengths. The below code shows the number of words in the first and second reviews. Since inputs to a neural network must be the same length, we'll need to resolve this later."
      ]
    },
    {
      "cell_type": "code",
      "execution_count": 7,
      "metadata": {
        "id": "X-6Ii9Pfx6Nr",
        "outputId": "b3811421-ce5f-4563-8f73-767e0c90da93",
        "colab": {
          "base_uri": "https://localhost:8080/"
        }
      },
      "outputs": [
        {
          "output_type": "execute_result",
          "data": {
            "text/plain": [
              "(218, 189)"
            ]
          },
          "metadata": {},
          "execution_count": 7
        }
      ],
      "source": [
        "len(train_data[0]), len(train_data[1])"
      ]
    },
    {
      "cell_type": "markdown",
      "metadata": {
        "id": "4wJg2FiYpuoX"
      },
      "source": [
        "### Convert the integers back to words\n",
        "\n",
        "It may be useful to know how to convert integers back to text. Here, we'll create a helper function to query a dictionary object that contains the integer to string mapping:"
      ]
    },
    {
      "cell_type": "code",
      "execution_count": 8,
      "metadata": {
        "id": "tr5s_1alpzop"
      },
      "outputs": [],
      "source": [
        "# A dictionary mapping words to an integer index\n",
        "word_index = imdb.get_word_index()"
      ]
    },
    {
      "cell_type": "code",
      "source": [
        "# The first indices are reserved\n",
        "word_index = {k:(v+3) for k,v in word_index.items()}"
      ],
      "metadata": {
        "id": "HAVsCbx2Mtbm"
      },
      "execution_count": 12,
      "outputs": []
    },
    {
      "cell_type": "code",
      "source": [
        "word_index[\"<PAD>\"] = 0\n",
        "word_index[\"<START>\"] = 1\n",
        "word_index[\"<UNK>\"] = 2  # unknown\n",
        "word_index[\"<UNUSED>\"] = 3\n",
        "\n",
        "reverse_word_index = dict([(value, key) for (key, value) in word_index.items()])\n"
      ],
      "metadata": {
        "id": "gKct0lf7KSOP"
      },
      "execution_count": 18,
      "outputs": []
    },
    {
      "cell_type": "markdown",
      "source": [
        "reverse_word_index.get(i, '?'):\n",
        "For each integer i, it retrieves the corresponding word from reverse_word_index.\n",
        "If i is in reverse_word_index, reverse_word_index[i] returns the corresponding word.\n",
        "If i is not in reverse_word_index, .get(i, '?') returns '?'. This is a safeguard to handle unknown words or indices that may not be in the reverse index (though ideally all indices should be in reverse_word_index)."
      ],
      "metadata": {
        "id": "KKqrFeecPTXv"
      }
    },
    {
      "cell_type": "code",
      "source": [
        "def decode_review(text):\n",
        "    return ' '.join([reverse_word_index.get(i, '?') for i in text])"
      ],
      "metadata": {
        "id": "hllM2X-dOU-t"
      },
      "execution_count": 23,
      "outputs": []
    },
    {
      "cell_type": "markdown",
      "metadata": {
        "id": "U3CNRvEZVppl"
      },
      "source": [
        "Now we can use the `decode_review` function to display the text for the first review:"
      ]
    },
    {
      "cell_type": "markdown",
      "metadata": {
        "id": "lFP_XKVRp4_S"
      },
      "source": [
        "## Prepare the data\n",
        "\n",
        "The reviews—the arrays of integers—must be converted to tensors before fed into the neural network. This conversion can be done a couple of ways:\n",
        "\n",
        "* Convert the arrays into vectors of 0s and 1s indicating word occurrence, similar to a one-hot encoding. For example, the sequence  [3, 5] would become a 10,000-dimensional vector that is all zeros except for indices 3 and 5, which are ones. Then, make this the first layer in our network—a Dense layer—that can handle floating point vector data. This approach is memory intensive, though, requiring a `num_words * num_reviews` size matrix.\n",
        "\n",
        "* Alternatively, we can pad the arrays so they all have the same length, then create an integer tensor of shape `max_length * num_reviews`. We can use an embedding layer capable of handling this shape as the first layer in our network.\n",
        "\n",
        "In this tutorial, we will use the second approach.\n",
        "\n",
        "If you are unfamiliar with embeddings, see the [embedding guide](../../guide/embedding).\n",
        "\n",
        "Since the movie reviews must be the same length, we will use the [pad_sequences](https://keras.io/preprocessing/sequence/#pad_sequences) function to standardize the lengths:"
      ]
    },
    {
      "cell_type": "code",
      "execution_count": 24,
      "metadata": {
        "id": "2jQv-omsHurp"
      },
      "outputs": [],
      "source": [
        "train_data = keras.preprocessing.sequence.pad_sequences(train_data,\n",
        "                                                        value=word_index[\"<PAD>\"],\n",
        "                                                        padding='post',\n",
        "                                                        maxlen=256)\n",
        "\n",
        "test_data = keras.preprocessing.sequence.pad_sequences(test_data,\n",
        "                                                       value=word_index[\"<PAD>\"],\n",
        "                                                       padding='post',\n",
        "                                                       maxlen=256)"
      ]
    },
    {
      "cell_type": "markdown",
      "metadata": {
        "id": "VO5MBpyQdipD"
      },
      "source": [
        "Let's look at the length of the examples now:"
      ]
    },
    {
      "cell_type": "code",
      "execution_count": 25,
      "metadata": {
        "id": "USSSBnkE-lky",
        "outputId": "ee21789b-9ae3-4add-fa9d-f0651a5956a0",
        "colab": {
          "base_uri": "https://localhost:8080/"
        }
      },
      "outputs": [
        {
          "output_type": "execute_result",
          "data": {
            "text/plain": [
              "(256, 256)"
            ]
          },
          "metadata": {},
          "execution_count": 25
        }
      ],
      "source": [
        "len(train_data[0]), len(train_data[1])"
      ]
    },
    {
      "cell_type": "markdown",
      "metadata": {
        "id": "QJoxZGyfjT5V"
      },
      "source": [
        "And inspect the (now padded) first review:"
      ]
    },
    {
      "cell_type": "code",
      "execution_count": 26,
      "metadata": {
        "id": "TG8X9cqi-lk9",
        "outputId": "f3f6d166-f7d9-4cc6-b47e-12cd956b7ca2",
        "colab": {
          "base_uri": "https://localhost:8080/"
        }
      },
      "outputs": [
        {
          "output_type": "stream",
          "name": "stdout",
          "text": [
            "[   1   14   22   16   43  530  973 1622 1385   65  458 4468   66 3941\n",
            "    4  173   36  256    5   25  100   43  838  112   50  670    2    9\n",
            "   35  480  284    5  150    4  172  112  167    2  336  385   39    4\n",
            "  172 4536 1111   17  546   38   13  447    4  192   50   16    6  147\n",
            " 2025   19   14   22    4 1920 4613  469    4   22   71   87   12   16\n",
            "   43  530   38   76   15   13 1247    4   22   17  515   17   12   16\n",
            "  626   18    2    5   62  386   12    8  316    8  106    5    4 2223\n",
            " 5244   16  480   66 3785   33    4  130   12   16   38  619    5   25\n",
            "  124   51   36  135   48   25 1415   33    6   22   12  215   28   77\n",
            "   52    5   14  407   16   82    2    8    4  107  117 5952   15  256\n",
            "    4    2    7 3766    5  723   36   71   43  530  476   26  400  317\n",
            "   46    7    4    2 1029   13  104   88    4  381   15  297   98   32\n",
            " 2071   56   26  141    6  194 7486   18    4  226   22   21  134  476\n",
            "   26  480    5  144   30 5535   18   51   36   28  224   92   25  104\n",
            "    4  226   65   16   38 1334   88   12   16  283    5   16 4472  113\n",
            "  103   32   15   16 5345   19  178   32    0    0    0    0    0    0\n",
            "    0    0    0    0    0    0    0    0    0    0    0    0    0    0\n",
            "    0    0    0    0    0    0    0    0    0    0    0    0    0    0\n",
            "    0    0    0    0]\n"
          ]
        }
      ],
      "source": [
        "print(train_data[0])"
      ]
    },
    {
      "cell_type": "markdown",
      "metadata": {
        "id": "LLC02j2g-llC"
      },
      "source": [
        "## Build the model\n",
        "\n",
        "The neural network is created by stacking layers—this requires two main architectural decisions:\n",
        "\n",
        "* How many layers to use in the model?\n",
        "* How many *hidden units* to use for each layer?\n",
        "\n",
        "In this example, the input data consists of an array of word-indices. The labels to predict are either 0 or 1. Let's build a model for this problem:"
      ]
    },
    {
      "cell_type": "code",
      "execution_count": 28,
      "metadata": {
        "id": "xpKOoWgu-llD",
        "outputId": "9295cf13-6b57-45c7-ec40-af8d55c20460",
        "colab": {
          "base_uri": "https://localhost:8080/"
        }
      },
      "outputs": [
        {
          "output_type": "stream",
          "name": "stdout",
          "text": [
            "Model: \"sequential\"\n",
            "_________________________________________________________________\n",
            " Layer (type)                Output Shape              Param #   \n",
            "=================================================================\n",
            " embedding (Embedding)       (None, None, 16)          160000    \n",
            "                                                                 \n",
            " global_average_pooling1d (  (None, 16)                0         \n",
            " GlobalAveragePooling1D)                                         \n",
            "                                                                 \n",
            " dense (Dense)               (None, 16)                272       \n",
            "                                                                 \n",
            " dense_1 (Dense)             (None, 1)                 17        \n",
            "                                                                 \n",
            "=================================================================\n",
            "Total params: 160289 (626.13 KB)\n",
            "Trainable params: 160289 (626.13 KB)\n",
            "Non-trainable params: 0 (0.00 Byte)\n",
            "_________________________________________________________________\n"
          ]
        }
      ],
      "source": [
        "# input shape is the vocabulary count used for the movie reviews (10,000 words)\n",
        "vocab_size = 10000\n",
        "\n",
        "model = keras.Sequential()\n",
        "model.add(keras.layers.Embedding(vocab_size, 16))\n",
        "model.add(keras.layers.GlobalAveragePooling1D())\n",
        "model.add(keras.layers.Dense(16, activation=tf.nn.relu))\n",
        "model.add(keras.layers.Dense(1, activation=tf.nn.sigmoid))\n",
        "\n",
        "model.summary()"
      ]
    },
    {
      "cell_type": "markdown",
      "metadata": {
        "id": "6PbKQ6mucuKL"
      },
      "source": [
        "The layers are stacked sequentially to build the classifier:\n",
        "\n",
        "1. The first layer is an `Embedding` layer. This layer takes the integer-encoded vocabulary and looks up the embedding vector for each word-index. These vectors are learned as the model trains. The vectors add a dimension to the output array. The resulting dimensions are: `(batch, sequence, embedding)`.\n",
        "2. Next, a `GlobalAveragePooling1D` layer returns a fixed-length output vector for each example by averaging over the sequence dimension. This allows the model to handle input of variable length, in the simplest way possible.\n",
        "3. This fixed-length output vector is piped through a fully-connected (`Dense`) layer with 16 hidden units.\n",
        "4. The last layer is densely connected with a single output node. Using the `sigmoid` activation function, this value is a float between 0 and 1, representing a probability, or confidence level."
      ]
    },
    {
      "cell_type": "markdown",
      "metadata": {
        "id": "0XMwnDOp-llH"
      },
      "source": [
        "### Hidden units\n",
        "\n",
        "The above model has two intermediate or \"hidden\" layers, between the input and output. The number of outputs (units, nodes, or neurons) is the dimension of the representational space for the layer. In other words, the amount of freedom the network is allowed when learning an internal representation.\n",
        "\n",
        "If a model has more hidden units (a higher-dimensional representation space), and/or more layers, then the network can learn more complex representations. However, it makes the network more computationally expensive and may lead to learning unwanted patterns—patterns that improve performance on training data but not on the test data."
      ]
    },
    {
      "cell_type": "markdown",
      "metadata": {
        "id": "L4EqVWg4-llM"
      },
      "source": [
        "### Loss function and optimizer\n",
        "\n",
        "A model needs a loss function and an optimizer for training. Since this is a binary classification problem and the model outputs a probability (a single-unit layer with a sigmoid activation), we'll use the `binary_crossentropy` loss function.\n",
        "\n",
        "This isn't the only choice for a loss function, you could, for instance, choose `mean_squared_error`. But, generally, `binary_crossentropy` is better for dealing with probabilities—it measures the \"distance\" between probability distributions, or in our case, between the ground-truth distribution and the predictions.\n",
        "\n",
        "Configure the model to use an optimizer and a loss function:"
      ]
    },
    {
      "cell_type": "code",
      "execution_count": 29,
      "metadata": {
        "id": "Mr0GP-cQ-llN"
      },
      "outputs": [],
      "source": [
        "model.compile(optimizer='adam',\n",
        "              loss='binary_crossentropy',\n",
        "              metrics=['acc'])"
      ]
    },
    {
      "cell_type": "markdown",
      "metadata": {
        "id": "hCWYwkug-llQ"
      },
      "source": [
        "## Create a validation set\n",
        "\n",
        "When training, we want to check the accuracy of the model on data it hasn't seen before. Create a *validation set* by setting apart 10,000 examples from the original training data. (Why not use the testing set now? Our goal is to develop and tune our model using only the training data, then use the test data just once to evaluate our accuracy)."
      ]
    },
    {
      "cell_type": "code",
      "execution_count": 30,
      "metadata": {
        "id": "-NpcXY9--llS"
      },
      "outputs": [],
      "source": [
        "x_val = train_data[:10000]\n",
        "partial_x_train = train_data[10000:]\n",
        "\n",
        "y_val = train_labels[:10000]\n",
        "partial_y_train = train_labels[10000:]"
      ]
    },
    {
      "cell_type": "markdown",
      "metadata": {
        "id": "35jv_fzP-llU"
      },
      "source": [
        "## Train the model\n",
        "\n",
        "Train the model for 40 epochs in mini-batches of 512 samples. This is 40 iterations over all samples in the `x_train` and `y_train` tensors. While training, monitor the model's loss and accuracy on the 10,000 samples from the validation set:"
      ]
    },
    {
      "cell_type": "markdown",
      "source": [
        "In the context of the model.fit() function in Keras, the verbose argument determines how training progress is displayed during the training process. Let's break down what verbose does and how it affects the output:\n",
        "\n",
        "verbose Argument\n",
        "The verbose argument in model.fit() accepts integers (0, 1, or 2), specifying the verbosity mode:\n",
        "\n",
        "verbose=0: Silent mode. No output is shown during training (silent mode).\n",
        "\n",
        "verbose=1: Progress bar mode. An animated progress bar is shown during training, indicating progress for each epoch.\n",
        "\n",
        "verbose=2: One line per epoch. In this mode, Keras outputs a line of progress for each epoch, like this: Epoch 1/40 - loss: 0.3542 - accuracy: 0.8468 - val_loss: 0.3157 - val_accuracy: 0.8693.\n",
        "\n"
      ],
      "metadata": {
        "id": "EY5Xx6TWXPeR"
      }
    },
    {
      "cell_type": "code",
      "execution_count": 34,
      "metadata": {
        "id": "tXSGrjWZ-llW",
        "outputId": "7c8db563-4a22-415a-f8b5-3f4d0d9592d4",
        "colab": {
          "base_uri": "https://localhost:8080/"
        }
      },
      "outputs": [
        {
          "output_type": "stream",
          "name": "stdout",
          "text": [
            "Epoch 1/40\n",
            "30/30 [==============================] - 2s 29ms/step - loss: 0.6916 - acc: 0.6365 - val_loss: 0.6894 - val_acc: 0.7131\n",
            "Epoch 2/40\n",
            "30/30 [==============================] - 1s 22ms/step - loss: 0.6852 - acc: 0.6805 - val_loss: 0.6802 - val_acc: 0.7328\n",
            "Epoch 3/40\n",
            "30/30 [==============================] - 1s 21ms/step - loss: 0.6708 - acc: 0.7437 - val_loss: 0.6620 - val_acc: 0.7571\n",
            "Epoch 4/40\n",
            "30/30 [==============================] - 1s 22ms/step - loss: 0.6453 - acc: 0.7660 - val_loss: 0.6327 - val_acc: 0.7716\n",
            "Epoch 5/40\n",
            "30/30 [==============================] - 1s 22ms/step - loss: 0.6084 - acc: 0.7919 - val_loss: 0.5944 - val_acc: 0.7929\n",
            "Epoch 6/40\n",
            "30/30 [==============================] - 1s 22ms/step - loss: 0.5624 - acc: 0.8181 - val_loss: 0.5497 - val_acc: 0.8116\n",
            "Epoch 7/40\n",
            "30/30 [==============================] - 1s 22ms/step - loss: 0.5127 - acc: 0.8357 - val_loss: 0.5047 - val_acc: 0.8247\n",
            "Epoch 8/40\n",
            "30/30 [==============================] - 1s 23ms/step - loss: 0.4640 - acc: 0.8536 - val_loss: 0.4627 - val_acc: 0.8396\n",
            "Epoch 9/40\n",
            "30/30 [==============================] - 1s 21ms/step - loss: 0.4192 - acc: 0.8667 - val_loss: 0.4261 - val_acc: 0.8493\n",
            "Epoch 10/40\n",
            "30/30 [==============================] - 1s 21ms/step - loss: 0.3813 - acc: 0.8769 - val_loss: 0.3962 - val_acc: 0.8563\n",
            "Epoch 11/40\n",
            "30/30 [==============================] - 1s 22ms/step - loss: 0.3487 - acc: 0.8855 - val_loss: 0.3725 - val_acc: 0.8631\n",
            "Epoch 12/40\n",
            "30/30 [==============================] - 1s 21ms/step - loss: 0.3213 - acc: 0.8945 - val_loss: 0.3541 - val_acc: 0.8660\n",
            "Epoch 13/40\n",
            "30/30 [==============================] - 1s 27ms/step - loss: 0.2990 - acc: 0.8991 - val_loss: 0.3387 - val_acc: 0.8722\n",
            "Epoch 14/40\n",
            "30/30 [==============================] - 1s 32ms/step - loss: 0.2790 - acc: 0.9058 - val_loss: 0.3269 - val_acc: 0.8739\n",
            "Epoch 15/40\n",
            "30/30 [==============================] - 1s 34ms/step - loss: 0.2618 - acc: 0.9092 - val_loss: 0.3176 - val_acc: 0.8761\n",
            "Epoch 16/40\n",
            "30/30 [==============================] - 1s 34ms/step - loss: 0.2468 - acc: 0.9155 - val_loss: 0.3090 - val_acc: 0.8789\n",
            "Epoch 17/40\n",
            "30/30 [==============================] - 1s 20ms/step - loss: 0.2333 - acc: 0.9189 - val_loss: 0.3030 - val_acc: 0.8801\n",
            "Epoch 18/40\n",
            "30/30 [==============================] - 1s 22ms/step - loss: 0.2203 - acc: 0.9235 - val_loss: 0.2983 - val_acc: 0.8807\n",
            "Epoch 19/40\n",
            "30/30 [==============================] - 1s 22ms/step - loss: 0.2096 - acc: 0.9273 - val_loss: 0.2934 - val_acc: 0.8837\n",
            "Epoch 20/40\n",
            "30/30 [==============================] - 1s 20ms/step - loss: 0.1988 - acc: 0.9322 - val_loss: 0.2901 - val_acc: 0.8840\n",
            "Epoch 21/40\n",
            "30/30 [==============================] - 1s 20ms/step - loss: 0.1893 - acc: 0.9357 - val_loss: 0.2884 - val_acc: 0.8843\n",
            "Epoch 22/40\n",
            "30/30 [==============================] - 1s 20ms/step - loss: 0.1806 - acc: 0.9404 - val_loss: 0.2861 - val_acc: 0.8849\n",
            "Epoch 23/40\n",
            "30/30 [==============================] - 1s 23ms/step - loss: 0.1720 - acc: 0.9445 - val_loss: 0.2849 - val_acc: 0.8845\n",
            "Epoch 24/40\n",
            "30/30 [==============================] - 1s 22ms/step - loss: 0.1643 - acc: 0.9483 - val_loss: 0.2850 - val_acc: 0.8832\n",
            "Epoch 25/40\n",
            "30/30 [==============================] - 1s 22ms/step - loss: 0.1573 - acc: 0.9505 - val_loss: 0.2850 - val_acc: 0.8844\n",
            "Epoch 26/40\n",
            "30/30 [==============================] - 1s 21ms/step - loss: 0.1502 - acc: 0.9541 - val_loss: 0.2846 - val_acc: 0.8857\n",
            "Epoch 27/40\n",
            "30/30 [==============================] - 1s 20ms/step - loss: 0.1435 - acc: 0.9561 - val_loss: 0.2872 - val_acc: 0.8826\n",
            "Epoch 28/40\n",
            "30/30 [==============================] - 1s 23ms/step - loss: 0.1378 - acc: 0.9585 - val_loss: 0.2871 - val_acc: 0.8849\n",
            "Epoch 29/40\n",
            "30/30 [==============================] - 1s 22ms/step - loss: 0.1319 - acc: 0.9613 - val_loss: 0.2880 - val_acc: 0.8856\n",
            "Epoch 30/40\n",
            "30/30 [==============================] - 1s 21ms/step - loss: 0.1264 - acc: 0.9629 - val_loss: 0.2903 - val_acc: 0.8845\n",
            "Epoch 31/40\n",
            "30/30 [==============================] - 1s 21ms/step - loss: 0.1213 - acc: 0.9654 - val_loss: 0.2936 - val_acc: 0.8824\n",
            "Epoch 32/40\n",
            "30/30 [==============================] - 1s 28ms/step - loss: 0.1163 - acc: 0.9673 - val_loss: 0.2952 - val_acc: 0.8833\n",
            "Epoch 33/40\n",
            "30/30 [==============================] - 1s 31ms/step - loss: 0.1114 - acc: 0.9689 - val_loss: 0.2968 - val_acc: 0.8855\n",
            "Epoch 34/40\n",
            "30/30 [==============================] - 1s 34ms/step - loss: 0.1068 - acc: 0.9709 - val_loss: 0.3009 - val_acc: 0.8818\n",
            "Epoch 35/40\n",
            "30/30 [==============================] - 1s 27ms/step - loss: 0.1028 - acc: 0.9716 - val_loss: 0.3026 - val_acc: 0.8842\n",
            "Epoch 36/40\n",
            "30/30 [==============================] - 1s 19ms/step - loss: 0.0991 - acc: 0.9742 - val_loss: 0.3069 - val_acc: 0.8807\n",
            "Epoch 37/40\n",
            "30/30 [==============================] - 1s 23ms/step - loss: 0.0946 - acc: 0.9758 - val_loss: 0.3089 - val_acc: 0.8831\n",
            "Epoch 38/40\n",
            "30/30 [==============================] - 1s 31ms/step - loss: 0.0910 - acc: 0.9775 - val_loss: 0.3144 - val_acc: 0.8808\n",
            "Epoch 39/40\n",
            "30/30 [==============================] - 1s 38ms/step - loss: 0.0873 - acc: 0.9785 - val_loss: 0.3158 - val_acc: 0.8821\n",
            "Epoch 40/40\n",
            "30/30 [==============================] - 1s 34ms/step - loss: 0.0838 - acc: 0.9807 - val_loss: 0.3210 - val_acc: 0.8801\n"
          ]
        }
      ],
      "source": [
        "history = model.fit(partial_x_train,\n",
        "                    partial_y_train,\n",
        "                    epochs=40,\n",
        "                    batch_size=512,\n",
        "                    validation_data=(x_val, y_val),\n",
        "                    verbose=1)"
      ]
    },
    {
      "cell_type": "markdown",
      "metadata": {
        "id": "9EEGuDVuzb5r"
      },
      "source": [
        "## Evaluate the model\n",
        "\n",
        "And let's see how the model performs. Two values will be returned. Loss (a number which represents our error, lower values are better), and accuracy."
      ]
    },
    {
      "cell_type": "code",
      "execution_count": 35,
      "metadata": {
        "id": "zOMKywn4zReN",
        "outputId": "6d14fef9-580b-4f01-f2e5-2c3a680352f3",
        "colab": {
          "base_uri": "https://localhost:8080/"
        }
      },
      "outputs": [
        {
          "output_type": "stream",
          "name": "stdout",
          "text": [
            "782/782 - 1s - loss: 0.3417 - acc: 0.8714 - 1s/epoch - 2ms/step\n",
            "[0.3417048752307892, 0.871399998664856]\n"
          ]
        }
      ],
      "source": [
        "results = model.evaluate(test_data,  test_labels, verbose=2)\n",
        "\n",
        "print(results)"
      ]
    },
    {
      "cell_type": "markdown",
      "metadata": {
        "id": "z1iEXVTR0Z2t"
      },
      "source": [
        "This fairly naive approach achieves an accuracy of about 87%. With more advanced approaches, the model should get closer to 95%."
      ]
    },
    {
      "cell_type": "markdown",
      "metadata": {
        "id": "5KggXVeL-llZ"
      },
      "source": [
        "## Create a graph of accuracy and loss over time\n",
        "\n",
        "`model.fit()` returns a `History` object that contains a dictionary with everything that happened during training:"
      ]
    },
    {
      "cell_type": "code",
      "execution_count": 36,
      "metadata": {
        "id": "VcvSXvhp-llb",
        "outputId": "6118e336-0227-4ada-e2e4-cb73f36f5e1b",
        "colab": {
          "base_uri": "https://localhost:8080/"
        }
      },
      "outputs": [
        {
          "output_type": "execute_result",
          "data": {
            "text/plain": [
              "dict_keys(['loss', 'acc', 'val_loss', 'val_acc'])"
            ]
          },
          "metadata": {},
          "execution_count": 36
        }
      ],
      "source": [
        "history_dict = history.history\n",
        "history_dict.keys()"
      ]
    },
    {
      "cell_type": "markdown",
      "metadata": {
        "id": "nRKsqL40-lle"
      },
      "source": [
        "There are four entries: one for each monitored metric during training and validation. We can use these to plot the training and validation loss for comparison, as well as the training and validation accuracy:"
      ]
    },
    {
      "cell_type": "code",
      "execution_count": 37,
      "metadata": {
        "id": "nGoYf2Js-lle",
        "outputId": "3d7449dc-45c5-4c8d-d2ad-1b4c9e570ff5",
        "colab": {
          "base_uri": "https://localhost:8080/",
          "height": 472
        }
      },
      "outputs": [
        {
          "output_type": "display_data",
          "data": {
            "text/plain": [
              "<Figure size 640x480 with 1 Axes>"
            ],
            "image/png": "[encoded data removed]"
          },
          "metadata": {}
        }
      ],
      "source": [
        "import matplotlib.pyplot as plt\n",
        "\n",
        "acc = history_dict['acc']\n",
        "val_acc = history_dict['val_acc']\n",
        "loss = history_dict['loss']\n",
        "val_loss = history_dict['val_loss']\n",
        "\n",
        "epochs = range(1, len(acc) + 1)\n",
        "\n",
        "# \"bo\" is for \"blue dot\"\n",
        "plt.plot(epochs, loss, 'bo', label='Training loss')\n",
        "# b is for \"solid blue line\"\n",
        "plt.plot(epochs, val_loss, 'b', label='Validation loss')\n",
        "plt.title('Training and validation loss')\n",
        "plt.xlabel('Epochs')\n",
        "plt.ylabel('Loss')\n",
        "plt.legend()\n",
        "\n",
        "plt.show()"
      ]
    },
    {
      "cell_type": "code",
      "execution_count": 38,
      "metadata": {
        "id": "6hXx-xOv-llh",
        "outputId": "e4b4d259-c7fb-4009-e428-e852cb9bffaf",
        "colab": {
          "base_uri": "https://localhost:8080/",
          "height": 472
        }
      },
      "outputs": [
        {
          "output_type": "display_data",
          "data": {
            "text/plain": [
              "<Figure size 640x480 with 1 Axes>"
            ],
            "image/png": "[encoded data removed]"
          },
          "metadata": {}
        }
      ],
      "source": [
        "plt.clf()   # clear figure\n",
        "\n",
        "plt.plot(epochs, acc, 'bo', label='Training acc')\n",
        "plt.plot(epochs, val_acc, 'b', label='Validation acc')\n",
        "plt.title('Training and validation accuracy')\n",
        "plt.xlabel('Epochs')\n",
        "plt.ylabel('Accuracy')\n",
        "plt.legend()\n",
        "\n",
        "plt.show()"
      ]
    },
    {
      "cell_type": "markdown",
      "metadata": {
        "id": "oFEmZ5zq-llk"
      },
      "source": [
        "In this plot, the dots represent the training loss and accuracy, and the solid lines are the validation loss and accuracy.\n",
        "\n",
        "Notice the training loss *decreases* with each epoch and the training accuracy *increases* with each epoch. This is expected when using a gradient descent optimization—it should minimize the desired quantity on every iteration.\n",
        "\n",
        "This isn't the case for the validation loss and accuracy—they seem to peak after about twenty epochs. This is an example of overfitting: the model performs better on the training data than it does on data it has never seen before. After this point, the model over-optimizes and learns representations *specific* to the training data that do not *generalize* to test data.\n",
        "\n",
        "For this particular case, we could prevent overfitting by simply stopping the training after twenty or so epochs. It can be done automatically with a callback."
      ]
    }
  ],
  "metadata": {
    "colab": {
      "name": "basic_text_classification.ipynb",
      "provenance": []
    },
    "kernelspec": {
      "display_name": "Python 3",
      "name": "python3"
    }
  },
  "nbformat": 4,
  "nbformat_minor": 0
}